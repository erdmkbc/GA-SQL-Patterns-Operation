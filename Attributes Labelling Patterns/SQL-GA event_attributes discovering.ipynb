{
 "cells": [
  {
   "cell_type": "markdown",
   "id": "66d7eae3",
   "metadata": {},
   "source": [
    "### Google bigquery patterns "
   ]
  },
  {
   "cell_type": "markdown",
   "id": "53771c7f",
   "metadata": {},
   "source": [
    "* Some segmentation patterns in Bigquery"
   ]
  },
  {
   "cell_type": "code",
   "execution_count": 245,
   "id": "2a900502",
   "metadata": {},
   "outputs": [],
   "source": [
    "class bigquery_patterns:\n",
    "    \n",
    "    def __init__(self):\n",
    "        \n",
    "        self.list_attribute = list_attribute\n",
    "        self.list_attribute_key = list_attribute_key\n",
    "        self.list_label = list_label\n",
    "        \n",
    "    def opening_attributes_int(self, list_attribute, list_attribute_key):\n",
    "        \n",
    "        for i,j in zip(self.list_attribute, self.list_attribute_key):\n",
    "            print('CASE WHEN event_name = ' + '\"'  + '{}'.format(i) + '\"' + ' ' \n",
    "                  + 'THEN (SELECT value.int_value FROM UNNEST(event_params) WHERE KEY = ' + '\"' \n",
    "                  + '{}'.format(j) + '\"' ') ' + ' ' + 'ELSE 0 END AS' + ' ' + 'firebase_screen_segments_msec\\n')\n",
    "    \n",
    "    def opening_attributes_string(self, list_attribute, list_attribute_key):\n",
    "        \n",
    "        for i,j in zip(self.list_attribute, self.list_attribute_key):\n",
    "            print('CASE WHEN event_name = ' + '\"'  + '{}'.format(i) + '\"' + ' ' \n",
    "                  + 'THEN (SELECT value.string_value FROM UNNEST(event_params) WHERE KEY = ' + '\"' \n",
    "                  + '{}'.format(j) + '\"' ') ' + ' ' + 'ELSE 0 END AS' + ' ' + 'firebase_screen\\n')\n",
    "    \n",
    "    def opened_attributes_labelling(self, list_label):\n",
    "        print('CASE\\n')\n",
    "        for i in list_label:\n",
    "            print('WHEN LOWER(' 'firebase_screen_segments' + ')' + ' ' 'LIKE' + '%' + ' ' + '{}'.format(i) + '%' + ' ' + 'THEN' + \n",
    "                   ' ' +'\"' + '{}'.format(i) + '\"')\n",
    "    \n",
    "    def sumation_msecs(self, list_label):\n",
    "        \n",
    "        for i in list_label:\n",
    "            print('SUM(' + '{}'.format(i) +')' + ' ' + 'AS' + ' ' +'firebase_screen_msec_' + '{}'.format(i))\n",
    "    \n",
    "    def sum_rows(list_column):\n",
    "    \n",
    "    for i in list_column:\n",
    "        print('COALESCE' + '(' + i + ',' + '0' + ')' + '+')\n",
    "        "
   ]
  },
  {
   "cell_type": "code",
   "execution_count": 247,
   "id": "8b603a4e",
   "metadata": {},
   "outputs": [],
   "source": [
    "bq = bigquery_patterns()"
   ]
  }
 ],
 "metadata": {
  "kernelspec": {
   "display_name": "Python 3",
   "language": "python",
   "name": "python3"
  },
  "language_info": {
   "codemirror_mode": {
    "name": "ipython",
    "version": 3
   },
   "file_extension": ".py",
   "mimetype": "text/x-python",
   "name": "python",
   "nbconvert_exporter": "python",
   "pygments_lexer": "ipython3",
   "version": "3.8.8"
  }
 },
 "nbformat": 4,
 "nbformat_minor": 5
}
